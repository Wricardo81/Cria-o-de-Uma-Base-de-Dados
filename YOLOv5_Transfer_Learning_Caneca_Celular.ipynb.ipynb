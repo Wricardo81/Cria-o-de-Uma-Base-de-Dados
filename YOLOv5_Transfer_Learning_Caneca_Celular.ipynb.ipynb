{
  "nbformat": 4,
  "nbformat_minor": 0,
  "metadata": {
    "colab": {
      "provenance": [],
      "gpuType": "T4"
    },
    "kernelspec": {
      "name": "python3",
      "display_name": "Python 3"
    },
    "language_info": {
      "name": "python"
    },
    "accelerator": "GPU"
  },
  "cells": [
    {
      "cell_type": "code",
      "source": [
        "# Etapa 1: Instalar o YOLOv5\n",
        "!git clone https://github.com/ultralytics/yolov5\n",
        "%cd yolov5\n",
        "!pip install -r requirements.txt\n",
        "\n",
        "# Etapa 2: Fazer upload do dataset zipado\n",
        "from google.colab import files\n",
        "uploaded = files.upload()  # Envie seu custom_dataset.zip aqui\n",
        "\n",
        "# Etapa 3: Descompactar o dataset\n",
        "import zipfile\n",
        "import os\n",
        "with zipfile.ZipFile(\"custom_dataset.zip\", 'r') as zip_ref:\n",
        "    zip_ref.extractall(\"custom_dataset\")\n",
        "\n",
        "# Etapa 4: Criar arquivo de configuração YAML\n",
        "yaml_content = \"\"\"\n",
        "train: custom_dataset/images\n",
        "val: custom_dataset/images\n",
        "\n",
        "nc: 2\n",
        "names: ['caneca', 'celular']\n",
        "\"\"\"\n",
        "\n",
        "with open(\"custom_data.yaml\", \"w\") as f:\n",
        "    f.write(yaml_content)\n",
        "\n",
        "# Etapa 5: Treinar com transfer learning usando yolov5s.pt\n",
        "!python train.py --img 640 --batch 4 --epochs 20 --data custom_data.yaml --weights yolov5s.pt --cache\n"
      ],
      "metadata": {
        "id": "iqGTwuFmF1Tn"
      },
      "execution_count": null,
      "outputs": []
    }
  ]
}